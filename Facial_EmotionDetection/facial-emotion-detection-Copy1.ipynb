{
 "cells": [
  {
   "cell_type": "code",
   "execution_count": 1,
   "id": "f18ccfd5",
   "metadata": {
    "execution": {
     "iopub.execute_input": "2023-04-25T16:58:45.012273Z",
     "iopub.status.busy": "2023-04-25T16:58:45.011726Z",
     "iopub.status.idle": "2023-04-25T16:58:56.800598Z",
     "shell.execute_reply": "2023-04-25T16:58:56.798945Z"
    },
    "papermill": {
     "duration": 11.798159,
     "end_time": "2023-04-25T16:58:56.803499",
     "exception": false,
     "start_time": "2023-04-25T16:58:45.005340",
     "status": "completed"
    },
    "tags": []
   },
   "outputs": [],
   "source": [
    "#! pip install livelossplot"
   ]
  },
  {
   "cell_type": "code",
   "execution_count": 1,
   "id": "b0fae24f",
   "metadata": {
    "execution": {
     "iopub.execute_input": "2023-04-25T16:58:56.813398Z",
     "iopub.status.busy": "2023-04-25T16:58:56.813036Z",
     "iopub.status.idle": "2023-04-25T16:59:05.557835Z",
     "shell.execute_reply": "2023-04-25T16:59:05.555517Z"
    },
    "id": "pxvzQtUb2c3J",
    "outputId": "f8871d2e-2816-4877-a95e-54f57167d0e0",
    "papermill": {
     "duration": 8.752605,
     "end_time": "2023-04-25T16:59:05.560339",
     "exception": false,
     "start_time": "2023-04-25T16:58:56.807734",
     "status": "completed"
    },
    "tags": []
   },
   "outputs": [
    {
     "name": "stdout",
     "output_type": "stream",
     "text": [
      "Tensorflow version: 2.12.0\n"
     ]
    }
   ],
   "source": [
    "import numpy as np\n",
    "import seaborn as sns\n",
    "import matplotlib.pyplot as plt\n",
    "import os\n",
    "\n",
    "%matplotlib inline\n",
    "\n",
    "from tensorflow.keras.preprocessing.image import ImageDataGenerator\n",
    "from tensorflow.keras.layers import Dense, Input, Dropout,Flatten, Conv2D\n",
    "from tensorflow.keras.layers import BatchNormalization, Activation, MaxPooling2D\n",
    "from tensorflow.keras.models import Model, Sequential\n",
    "from tensorflow.keras.optimizers import Adam\n",
    "from tensorflow.keras.callbacks import ModelCheckpoint, ReduceLROnPlateau\n",
    "\n",
    "from IPython.display import SVG, Image\n",
    "from livelossplot.tf_keras import PlotLossesCallback\n",
    "import tensorflow as tf\n",
    "print(\"Tensorflow version:\", tf.__version__)\n"
   ]
  },
  {
   "cell_type": "code",
   "execution_count": 2,
   "id": "591db0c6",
   "metadata": {
    "execution": {
     "iopub.execute_input": "2023-04-25T16:59:05.571264Z",
     "iopub.status.busy": "2023-04-25T16:59:05.569164Z",
     "iopub.status.idle": "2023-04-25T16:59:05.575705Z",
     "shell.execute_reply": "2023-04-25T16:59:05.574713Z"
    },
    "papermill": {
     "duration": 0.013921,
     "end_time": "2023-04-25T16:59:05.578033",
     "exception": false,
     "start_time": "2023-04-25T16:59:05.564112",
     "status": "completed"
    },
    "tags": []
   },
   "outputs": [],
   "source": [
    "train_path='train'\n",
    "test_path='test'"
   ]
  },
  {
   "cell_type": "code",
   "execution_count": 3,
   "id": "d7e28c20",
   "metadata": {
    "execution": {
     "iopub.execute_input": "2023-04-25T16:59:05.588464Z",
     "iopub.status.busy": "2023-04-25T16:59:05.586467Z",
     "iopub.status.idle": "2023-04-25T16:59:30.363552Z",
     "shell.execute_reply": "2023-04-25T16:59:30.361125Z"
    },
    "id": "PdbUTDNo2c3M",
    "outputId": "c680ccb3-399c-47a8-867c-d491d0e32140",
    "papermill": {
     "duration": 24.786007,
     "end_time": "2023-04-25T16:59:30.367494",
     "exception": false,
     "start_time": "2023-04-25T16:59:05.581487",
     "status": "completed"
    },
    "tags": []
   },
   "outputs": [
    {
     "name": "stdout",
     "output_type": "stream",
     "text": [
      "Found 28709 images belonging to 7 classes.\n",
      "Found 7178 images belonging to 7 classes.\n"
     ]
    }
   ],
   "source": [
    "img_size = 48\n",
    "batch_size = 64\n",
    "\n",
    "datagen_train = ImageDataGenerator(horizontal_flip=True)\n",
    "\n",
    "train_generator = datagen_train.flow_from_directory(train_path,\n",
    "                                                    target_size=(img_size,img_size),\n",
    "                                                    color_mode=\"grayscale\",\n",
    "                                                    batch_size=batch_size,\n",
    "                                                    class_mode='categorical',\n",
    "                                                    shuffle=True)\n",
    "\n",
    "datagen_validation = ImageDataGenerator(horizontal_flip=True)\n",
    "validation_generator = datagen_validation.flow_from_directory(test_path,\n",
    "                                                    target_size=(img_size,img_size),\n",
    "                                                    color_mode=\"grayscale\",\n",
    "                                                    batch_size=batch_size,\n",
    "                                                    class_mode='categorical',\n",
    "                                                    shuffle=False)"
   ]
  },
  {
   "cell_type": "code",
   "execution_count": 4,
   "id": "2010e70d",
   "metadata": {
    "execution": {
     "iopub.execute_input": "2023-04-25T16:59:30.388622Z",
     "iopub.status.busy": "2023-04-25T16:59:30.387846Z",
     "iopub.status.idle": "2023-04-25T16:59:33.526312Z",
     "shell.execute_reply": "2023-04-25T16:59:33.525344Z"
    },
    "id": "e5SCvF0A2c3M",
    "outputId": "88fe73df-0fab-43f8-ff7e-3fcc55325107",
    "papermill": {
     "duration": 3.189913,
     "end_time": "2023-04-25T16:59:33.569064",
     "exception": false,
     "start_time": "2023-04-25T16:59:30.379151",
     "status": "completed"
    },
    "tags": []
   },
   "outputs": [
    {
     "name": "stderr",
     "output_type": "stream",
     "text": [
      "WARNING:absl:`lr` is deprecated in Keras optimizer, please use `learning_rate` or use the legacy optimizer, e.g.,tf.keras.optimizers.legacy.Adam.\n"
     ]
    },
    {
     "name": "stdout",
     "output_type": "stream",
     "text": [
      "Model: \"sequential\"\n",
      "_________________________________________________________________\n",
      " Layer (type)                Output Shape              Param #   \n",
      "=================================================================\n",
      " conv2d (Conv2D)             (None, 48, 48, 64)        640       \n",
      "                                                                 \n",
      " batch_normalization (BatchN  (None, 48, 48, 64)       256       \n",
      " ormalization)                                                   \n",
      "                                                                 \n",
      " max_pooling2d (MaxPooling2D  (None, 24, 24, 64)       0         \n",
      " )                                                               \n",
      "                                                                 \n",
      " dropout (Dropout)           (None, 24, 24, 64)        0         \n",
      "                                                                 \n",
      " conv2d_1 (Conv2D)           (None, 24, 24, 128)       204928    \n",
      "                                                                 \n",
      " batch_normalization_1 (Batc  (None, 24, 24, 128)      512       \n",
      " hNormalization)                                                 \n",
      "                                                                 \n",
      " max_pooling2d_1 (MaxPooling  (None, 12, 12, 128)      0         \n",
      " 2D)                                                             \n",
      "                                                                 \n",
      " dropout_1 (Dropout)         (None, 12, 12, 128)       0         \n",
      "                                                                 \n",
      " conv2d_2 (Conv2D)           (None, 12, 12, 512)       590336    \n",
      "                                                                 \n",
      " batch_normalization_2 (Batc  (None, 12, 12, 512)      2048      \n",
      " hNormalization)                                                 \n",
      "                                                                 \n",
      " max_pooling2d_2 (MaxPooling  (None, 6, 6, 512)        0         \n",
      " 2D)                                                             \n",
      "                                                                 \n",
      " dropout_2 (Dropout)         (None, 6, 6, 512)         0         \n",
      "                                                                 \n",
      " conv2d_3 (Conv2D)           (None, 6, 6, 512)         2359808   \n",
      "                                                                 \n",
      " batch_normalization_3 (Batc  (None, 6, 6, 512)        2048      \n",
      " hNormalization)                                                 \n",
      "                                                                 \n",
      " max_pooling2d_3 (MaxPooling  (None, 3, 3, 512)        0         \n",
      " 2D)                                                             \n",
      "                                                                 \n",
      " dropout_3 (Dropout)         (None, 3, 3, 512)         0         \n",
      "                                                                 \n",
      " flatten (Flatten)           (None, 4608)              0         \n",
      "                                                                 \n",
      " dense (Dense)               (None, 256)               1179904   \n",
      "                                                                 \n",
      " batch_normalization_4 (Batc  (None, 256)              1024      \n",
      " hNormalization)                                                 \n",
      "                                                                 \n",
      " dropout_4 (Dropout)         (None, 256)               0         \n",
      "                                                                 \n",
      " dense_1 (Dense)             (None, 512)               131584    \n",
      "                                                                 \n",
      " batch_normalization_5 (Batc  (None, 512)              2048      \n",
      " hNormalization)                                                 \n",
      "                                                                 \n",
      " dropout_5 (Dropout)         (None, 512)               0         \n",
      "                                                                 \n",
      " dense_2 (Dense)             (None, 7)                 3591      \n",
      "                                                                 \n",
      "=================================================================\n",
      "Total params: 4,478,727\n",
      "Trainable params: 4,474,759\n",
      "Non-trainable params: 3,968\n",
      "_________________________________________________________________\n"
     ]
    }
   ],
   "source": [
    "# Initialising the CNN\n",
    "model = Sequential()\n",
    "\n",
    "# 1 - Convolution\n",
    "model.add(Conv2D(64,(3,3), padding='same',activation='relu', input_shape=(48, 48,1)))\n",
    "model.add(BatchNormalization())\n",
    "model.add(MaxPooling2D(pool_size=(2, 2)))\n",
    "model.add(Dropout(0.25))\n",
    "\n",
    "# 2nd Convolution layer\n",
    "model.add(Conv2D(128,(5,5),activation='relu', padding='same'))\n",
    "model.add(BatchNormalization())\n",
    "model.add(MaxPooling2D(pool_size=(2, 2)))\n",
    "model.add(Dropout(0.25))\n",
    "\n",
    "# 3rd Convolution layer\n",
    "model.add(Conv2D(512,(3,3),activation='relu', padding='same'))\n",
    "model.add(BatchNormalization())\n",
    "model.add(MaxPooling2D(pool_size=(2, 2)))\n",
    "model.add(Dropout(0.25))\n",
    "\n",
    "# 4th Convolution layer\n",
    "model.add(Conv2D(512,(3,3),activation='relu', padding='same'))\n",
    "model.add(BatchNormalization())\n",
    "model.add(MaxPooling2D(pool_size=(2, 2)))\n",
    "model.add(Dropout(0.25))\n",
    "\n",
    "# Flattening\n",
    "model.add(Flatten())\n",
    "\n",
    "# Fully connected layer 1st layer\n",
    "model.add(Dense(256,activation='relu'))\n",
    "model.add(BatchNormalization())\n",
    "model.add(Dropout(0.25))\n",
    "\n",
    "# Fully connected layer 2nd layer\n",
    "model.add(Dense(512,activation='relu'))\n",
    "model.add(BatchNormalization())\n",
    "model.add(Dropout(0.25))\n",
    "\n",
    "model.add(Dense(7, activation='softmax'))\n",
    "\n",
    "opt = Adam(lr=0.0005)\n",
    "model.compile(optimizer=opt, loss='categorical_crossentropy', metrics=['accuracy'])\n",
    "model.summary()"
   ]
  },
  {
   "cell_type": "code",
   "execution_count": 6,
   "id": "3d85b822",
   "metadata": {
    "execution": {
     "iopub.execute_input": "2023-04-25T16:59:33.585703Z",
     "iopub.status.busy": "2023-04-25T16:59:33.585323Z",
     "iopub.status.idle": "2023-04-25T17:11:54.379602Z",
     "shell.execute_reply": "2023-04-25T17:11:54.378044Z"
    },
    "id": "Meu97Kak2c3N",
    "outputId": "ac1cbb58-adcc-4a4d-80c0-db650fcc6de2",
    "papermill": {
     "duration": 740.807656,
     "end_time": "2023-04-25T17:11:54.384080",
     "exception": false,
     "start_time": "2023-04-25T16:59:33.576424",
     "status": "completed"
    },
    "tags": []
   },
   "outputs": [
    {
     "data": {
      "image/png": "[encoded data removed]",
      "text/plain": [
       "<Figure size 864x576 with 2 Axes>"
      ]
     },
     "metadata": {
      "needs_background": "light"
     },
     "output_type": "display_data"
    },
    {
     "name": "stdout",
     "output_type": "stream",
     "text": [
      "accuracy\n",
      "\ttraining         \t (min:    0.276, max:    0.558, cur:    0.558)\n",
      "\tvalidation       \t (min:    0.381, max:    0.543, cur:    0.543)\n",
      "Loss\n",
      "\ttraining         \t (min:    1.165, max:    1.944, cur:    1.165)\n",
      "\tvalidation       \t (min:    1.191, max:    1.645, cur:    1.191)\n",
      "\n",
      "Epoch 5: saving model to model_weights.h5\n",
      "448/448 [==============================] - 798s 2s/step - loss: 1.1648 - accuracy: 0.5581 - val_loss: 1.1907 - val_accuracy: 0.5432 - lr: 0.0010\n",
      "Wall time: 51min 39s\n"
     ]
    }
   ],
   "source": [
    "%%time\n",
    "\n",
    "epochs = 5\n",
    "steps_per_epoch = train_generator.n//train_generator.batch_size\n",
    "validation_steps = validation_generator.n//validation_generator.batch_size\n",
    "reduce_lr = ReduceLROnPlateau(monitor='val_loss', factor=0.1,\n",
    "                              patience=2, min_lr=0.00001, mode='auto')\n",
    "checkpoint = ModelCheckpoint(\"model_weights.h5\", monitor='val_accuracy',\n",
    "                             save_weights_only=True, mode='max', verbose=1)\n",
    "callbacks = [PlotLossesCallback(), checkpoint, reduce_lr]\n",
    "\n",
    "history = model.fit(\n",
    "    x=train_generator,\n",
    "    steps_per_epoch=steps_per_epoch,\n",
    "    epochs=epochs,\n",
    "    validation_data = validation_generator,\n",
    "    validation_steps = validation_steps,\n",
    "    callbacks=callbacks\n",
    ")\n",
    "\n"
   ]
  },
  {
   "cell_type": "code",
   "execution_count": 11,
   "id": "078619e7",
   "metadata": {
    "execution": {
     "iopub.execute_input": "2023-04-25T17:11:54.424957Z",
     "iopub.status.busy": "2023-04-25T17:11:54.424248Z",
     "iopub.status.idle": "2023-04-25T17:11:54.672521Z",
     "shell.execute_reply": "2023-04-25T17:11:54.671328Z"
    },
    "id": "FbhBNyG1ytOX",
    "papermill": {
     "duration": 0.277256,
     "end_time": "2023-04-25T17:11:54.675285",
     "exception": false,
     "start_time": "2023-04-25T17:11:54.398029",
     "status": "completed"
    },
    "tags": []
   },
   "outputs": [],
   "source": [
    "model.save('model.h5')"
   ]
  },
  {
   "cell_type": "code",
   "execution_count": 12,
   "id": "c56df449",
   "metadata": {
    "execution": {
     "iopub.execute_input": "2023-04-25T17:11:54.696180Z",
     "iopub.status.busy": "2023-04-25T17:11:54.695009Z",
     "iopub.status.idle": "2023-04-25T17:11:54.702568Z",
     "shell.execute_reply": "2023-04-25T17:11:54.701393Z"
    },
    "id": "Y96lm4dm2c3N",
    "papermill": {
     "duration": 0.020617,
     "end_time": "2023-04-25T17:11:54.705131",
     "exception": false,
     "start_time": "2023-04-25T17:11:54.684514",
     "status": "completed"
    },
    "tags": []
   },
   "outputs": [],
   "source": [
    "import numpy as np\n",
    "import tensorflow as tf\n",
    "\n",
    "\n",
    "class FacialExpressionModel(object):\n",
    "\n",
    "    EMOTIONS_LIST = [\"Angry\", \"Disgust\",\n",
    "                    \"Fear\", \"Happy\",\n",
    "                    \"Neutral\", \"Sad\",\n",
    "                    \"Surprise\"]\n",
    "\n",
    "    def __init__(self, model):\n",
    "        self.model=model\n",
    "\n",
    "    def predict_emotion(self, img):\n",
    "        self.preds = self.model.predict(img)\n",
    "        return FacialExpressionModel.EMOTIONS_LIST[np.argmax(self.preds)]"
   ]
  },
  {
   "cell_type": "code",
   "execution_count": 13,
   "id": "d13f930e",
   "metadata": {
    "execution": {
     "iopub.execute_input": "2023-04-25T17:11:54.724901Z",
     "iopub.status.busy": "2023-04-25T17:11:54.724511Z",
     "iopub.status.idle": "2023-04-25T17:11:54.929672Z",
     "shell.execute_reply": "2023-04-25T17:11:54.928428Z"
    },
    "id": "CD1v25Zm2c3N",
    "papermill": {
     "duration": 0.21834,
     "end_time": "2023-04-25T17:11:54.932467",
     "exception": false,
     "start_time": "2023-04-25T17:11:54.714127",
     "status": "completed"
    },
    "tags": []
   },
   "outputs": [],
   "source": [
    "import cv2\n",
    "facec = cv2.CascadeClassifier(cv2.data.haarcascades + 'haarcascade_frontalface_default.xml')\n",
    "emotion_model = FacialExpressionModel(model)\n",
    "font = cv2.FONT_HERSHEY_SIMPLEX\n",
    "class VideoCamera(object):\n",
    "    def __init__(self,path):\n",
    "        self.video = cv2.VideoCapture(path)\n",
    "    def __del__(self):\n",
    "        self.video.release()\n",
    "    # returns camera frames along with bounding boxes and predictions\n",
    "    def get_frame(self):\n",
    "        _, fr = self.video.read()\n",
    "        gray_fr = cv2.cvtColor(fr, cv2.COLOR_BGR2GRAY)\n",
    "        faces = facec.detectMultiScale(gray_fr, 1.3, 5)\n",
    "        for (x, y, w, h) in faces:\n",
    "            fc = gray_fr[y:y+h, x:x+w]\n",
    "            roi = cv2.resize(fc, (48, 48))\n",
    "            pred = model.predict_emotion(roi[np.newaxis, :, :, np.newaxis])\n",
    "            cv2.putText(fr, pred, (x, y), font, 1, (255, 255, 0), 2)\n",
    "            cv2.rectangle(fr,(x,y),(x+w,y+h),(255,0,0),2)\n",
    "        return fr"
   ]
  },
  {
   "cell_type": "code",
   "execution_count": 14,
   "id": "4287c65b",
   "metadata": {
    "execution": {
     "iopub.execute_input": "2023-04-25T17:11:54.952466Z",
     "iopub.status.busy": "2023-04-25T17:11:54.952085Z",
     "iopub.status.idle": "2023-04-25T17:11:54.958912Z",
     "shell.execute_reply": "2023-04-25T17:11:54.957854Z"
    },
    "id": "n6T-DgIn2c3O",
    "papermill": {
     "duration": 0.019843,
     "end_time": "2023-04-25T17:11:54.961429",
     "exception": false,
     "start_time": "2023-04-25T17:11:54.941586",
     "status": "completed"
    },
    "tags": []
   },
   "outputs": [],
   "source": [
    "def gen(camera):\n",
    "    while True:\n",
    "        frame = camera.get_frame()\n",
    "        cv2.imshow('Facial Expression Recognization',frame)\n",
    "        if cv2.waitKey(1) & 0xFF == ord('q'):\n",
    "            break\n",
    "    cv2.destroyAllWindows()\n"
   ]
  },
  {
   "cell_type": "code",
   "execution_count": 15,
   "id": "741f63eb",
   "metadata": {},
   "outputs": [],
   "source": [
    "\n",
    "def gen(camera):\n",
    "    # Create a window to display the frames\n",
    "    cv2.namedWindow('Facial Expression Recognition', cv2.WINDOW_NORMAL)\n",
    "    cv2.resizeWindow('Facial Expression Recognition', 640, 480)\n",
    "    \n",
    "    # Open the camera\n",
    "    camera.open()\n",
    "    \n",
    "    while True:\n",
    "        # Capture frame from the camera\n",
    "        frame = camera.get_frame()\n",
    "        \n",
    "        # Display the frame in the window\n",
    "        cv2.imshow('Facial Expression Recognition', frame)\n",
    "        \n",
    "        # Check for the 'q' key to quit\n",
    "        if cv2.waitKey(1) & 0xFF == ord('q'):\n",
    "            break\n",
    "    \n",
    "    # Release the camera and destroy the window\n",
    "    camera.release()\n",
    "    cv2.destroyAllWindows()\n"
   ]
  },
  {
   "cell_type": "code",
   "execution_count": 16,
   "id": "99868227",
   "metadata": {},
   "outputs": [
    {
     "ename": "NameError",
     "evalue": "name 'camera' is not defined",
     "output_type": "error",
     "traceback": [
      "\u001b[1;31m---------------------------------------------------------------------------\u001b[0m",
      "\u001b[1;31mNameError\u001b[0m                                 Traceback (most recent call last)",
      "\u001b[1;32m<ipython-input-16-cc7a97c96b25>\u001b[0m in \u001b[0;36m<module>\u001b[1;34m\u001b[0m\n\u001b[1;32m----> 1\u001b[1;33m \u001b[0mgen\u001b[0m\u001b[1;33m(\u001b[0m\u001b[0mcamera\u001b[0m\u001b[1;33m)\u001b[0m\u001b[1;33m\u001b[0m\u001b[1;33m\u001b[0m\u001b[0m\n\u001b[0m",
      "\u001b[1;31mNameError\u001b[0m: name 'camera' is not defined"
     ]
    }
   ],
   "source": [
    "gen(camera)"
   ]
  },
  {
   "cell_type": "code",
   "execution_count": null,
   "id": "b0506a04",
   "metadata": {},
   "outputs": [],
   "source": [
    "import numpy as np\n",
    "import seaborn as sns\n",
    "import matplotlib.pyplot as plt\n",
    "import os\n",
    "\n",
    "%matplotlib inline\n",
    "\n",
    "from tensorflow.keras.preprocessing.image import ImageDataGenerator\n",
    "from tensorflow.keras.layers import Dense, Input, Dropout,Flatten, Conv2D\n",
    "from tensorflow.keras.layers import BatchNormalization, Activation, MaxPooling2D\n",
    "from tensorflow.keras.models import Model, Sequential\n",
    "from tensorflow.keras.optimizers import Adam\n",
    "from tensorflow.keras.callbacks import ModelCheckpoint, ReduceLROnPlateau\n",
    "\n",
    "from IPython.display import SVG, Image\n",
    "from livelossplot.tf_keras import PlotLossesCallback\n",
    "import tensorflow as tf\n",
    "print(\"Tensorflow version:\", tf.__version__)\n",
    "train_path='train'\n",
    "test_path='test'\n",
    "img_size = 48\n",
    "batch_size = 64\n",
    "\n",
    "datagen_train = ImageDataGenerator(horizontal_flip=True)\n",
    "\n",
    "train_generator = datagen_train.flow_from_directory(train_path,\n",
    "                                                    target_size=(img_size,img_size),\n",
    "                                                    color_mode=\"grayscale\",\n",
    "                                                    batch_size=batch_size,\n",
    "                                                    class_mode='categorical',\n",
    "                                                    shuffle=True)\n",
    "\n",
    "datagen_validation = ImageDataGenerator(horizontal_flip=True)\n",
    "validation_generator = datagen_validation.flow_from_directory(test_path,\n",
    "                                                    target_size=(img_size,img_size),\n",
    "                                                    color_mode=\"grayscale\",\n",
    "                                                    batch_size=batch_size,\n",
    "                                                    class_mode='categorical',\n",
    "                                                    shuffle=False)\n",
    "# Initialising the CNN\n",
    "model = Sequential()\n",
    "\n",
    "# 1 - Convolution\n",
    "model.add(Conv2D(64,(3,3), padding='same',activation='relu', input_shape=(48, 48,1)))\n",
    "model.add(BatchNormalization())\n",
    "model.add(MaxPooling2D(pool_size=(2, 2)))\n",
    "model.add(Dropout(0.25))\n",
    "\n",
    "# 2nd Convolution layer\n",
    "model.add(Conv2D(128,(5,5),activation='relu', padding='same'))\n",
    "model.add(BatchNormalization())\n",
    "model.add(MaxPooling2D(pool_size=(2, 2)))\n",
    "model.add(Dropout(0.25))\n",
    "\n",
    "# 3rd Convolution layer\n",
    "model.add(Conv2D(512,(3,3),activation='relu', padding='same'))\n",
    "model.add(BatchNormalization())\n",
    "model.add(MaxPooling2D(pool_size=(2, 2)))\n",
    "model.add(Dropout(0.25))\n",
    "\n",
    "# 4th Convolution layer\n",
    "model.add(Conv2D(512,(3,3),activation='relu', padding='same'))\n",
    "model.add(BatchNormalization())\n",
    "model.add(MaxPooling2D(pool_size=(2, 2)))\n",
    "model.add(Dropout(0.25))\n",
    "\n",
    "# Flattening\n",
    "model.add(Flatten())\n",
    "\n",
    "# Fully connected layer 1st layer\n",
    "model.add(Dense(256,activation='relu'))\n",
    "model.add(BatchNormalization())\n",
    "model.add(Dropout(0.25))\n",
    "\n",
    "# Fully connected layer 2nd layer\n",
    "model.add(Dense(512,activation='relu'))\n",
    "model.add(BatchNormalization())\n",
    "model.add(Dropout(0.25))\n",
    "\n",
    "model.add(Dense(7, activation='softmax'))\n",
    "\n",
    "opt = Adam(lr=0.0005)\n",
    "model.compile(optimizer=opt, loss='categorical_crossentropy', metrics=['accuracy'])\n",
    "model.summary()\n",
    "%%time\n",
    "\n",
    "epochs = 5\n",
    "steps_per_epoch = train_generator.n//train_generator.batch_size\n",
    "validation_steps = validation_generator.n//validation_generator.batch_size\n",
    "reduce_lr = ReduceLROnPlateau(monitor='val_loss', factor=0.1,\n",
    "                              patience=2, min_lr=0.00001, mode='auto')\n",
    "checkpoint = ModelCheckpoint(\"model_weights.h5\", monitor='val_accuracy',\n",
    "                             save_weights_only=True, mode='max', verbose=1)\n",
    "callbacks = [PlotLossesCallback(), checkpoint, reduce_lr]\n",
    "\n",
    "history = model.fit(\n",
    "    x=train_generator,\n",
    "    steps_per_epoch=steps_per_epoch,\n",
    "    epochs=epochs,\n",
    "    validation_data = validation_generator,\n",
    "    validation_steps = validation_steps,\n",
    "    callbacks=callbacks\n",
    ")\n",
    "model.save('model.h5')\n",
    "import numpy as np\n",
    "import tensorflow as tf\n",
    "\n",
    "\n",
    "class FacialExpressionModel(object):\n",
    "\n",
    "    EMOTIONS_LIST = [\"Angry\", \"Disgust\",\n",
    "                    \"Fear\", \"Happy\",\n",
    "                    \"Neutral\", \"Sad\",\n",
    "                    \"Surprise\"]\n",
    "\n",
    "    def __init__(self, model):\n",
    "        self.model=model\n",
    "\n",
    "    def predict_emotion(self, img):\n",
    "        self.preds = self.model.predict(img)\n",
    "        return FacialExpressionModel.EMOTIONS_LIST[np.argmax(self.preds)]\n",
    "import cv2\n",
    "facec = cv2.CascadeClassifier(cv2.data.haarcascades + 'haarcascade_frontalface_default.xml')\n",
    "emotion_model = FacialExpressionModel(model)\n",
    "font = cv2.FONT_HERSHEY_SIMPLEX\n",
    "class VideoCamera(object):\n",
    "    def __init__(self,path):\n",
    "        self.video = cv2.VideoCapture(path)\n",
    "    def __del__(self):\n",
    "        self.video.release()\n",
    "    # returns camera frames along with bounding boxes and predictions\n",
    "    def get_frame(self):\n",
    "        _, fr = self.video.read()\n",
    "        gray_fr = cv2.cvtColor(fr, cv2.COLOR_BGR2GRAY)\n",
    "        faces = facec.detectMultiScale(gray_fr, 1.3, 5)\n",
    "        for (x, y, w, h) in faces:\n",
    "            fc = gray_fr[y:y+h, x:x+w]\n",
    "            roi = cv2.resize(fc, (48, 48))\n",
    "            pred = model.predict_emotion(roi[np.newaxis, :, :, np.newaxis])\n",
    "            cv2.putText(fr, pred, (x, y), font, 1, (255, 255, 0), 2)\n",
    "            cv2.rectangle(fr,(x,y),(x+w,y+h),(255,0,0),2)\n",
    "        return fr\n",
    "def gen(camera):\n",
    "    while True:\n",
    "        frame = camera.get_frame()\n",
    "        cv2.imshow('Facial Expression Recognization',frame)\n",
    "        if cv2.waitKey(1) & 0xFF == ord('q'):\n",
    "            break\n",
    "    cv2.destroyAllWindows()\n"
   ]
  }
 ],
 "metadata": {
  "kernelspec": {
   "display_name": "Python 3",
   "language": "python",
   "name": "python3"
  },
  "language_info": {
   "codemirror_mode": {
    "name": "ipython",
    "version": 3
   },
   "file_extension": ".py",
   "mimetype": "text/x-python",
   "name": "python",
   "nbconvert_exporter": "python",
   "pygments_lexer": "ipython3",
   "version": "3.8.8"
  },
  "papermill": {
   "default_parameters": {},
   "duration": 804.38943,
   "end_time": "2023-04-25T17:11:58.726083",
   "environment_variables": {},
   "exception": null,
   "input_path": "__notebook__.ipynb",
   "output_path": "__notebook__.ipynb",
   "parameters": {},
   "start_time": "2023-04-25T16:58:34.336653",
   "version": "2.4.0"
  }
 },
 "nbformat": 4,
 "nbformat_minor": 5
}
