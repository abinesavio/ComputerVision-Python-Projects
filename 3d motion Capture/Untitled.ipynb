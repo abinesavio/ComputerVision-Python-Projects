{
 "cells": [
  {
   "cell_type": "code",
   "execution_count": 1,
   "id": "00e48581",
   "metadata": {
    "scrolled": true
   },
   "outputs": [],
   "source": [
    "#!pip install cvzone\n"
   ]
  },
  {
   "cell_type": "code",
   "execution_count": 2,
   "id": "461bbd40",
   "metadata": {},
   "outputs": [],
   "source": [
    "#!pip install mediapipe --user"
   ]
  },
  {
   "cell_type": "code",
   "execution_count": 3,
   "id": "e0e5406d",
   "metadata": {},
   "outputs": [
    {
     "ename": "SyntaxError",
     "evalue": "invalid syntax (<ipython-input-3-c01864cb79b9>, line 26)",
     "output_type": "error",
     "traceback": [
      "\u001b[1;36m  File \u001b[1;32m\"<ipython-input-3-c01864cb79b9>\"\u001b[1;36m, line \u001b[1;32m26\u001b[0m\n\u001b[1;33m    using System.Collections;\u001b[0m\n\u001b[1;37m          ^\u001b[0m\n\u001b[1;31mSyntaxError\u001b[0m\u001b[1;31m:\u001b[0m invalid syntax\n"
     ]
    }
   ],
   "source": [
    "import cv2\n",
    "from cvzone.PoseModule import PoseDetector\n",
    "\n",
    "cap = cv2.VideoCapture('Video.mp4')\n",
    "\n",
    "detector = PoseDetector()\n",
    "posList = []\n",
    "while True:\n",
    "    success, img = cap.read()\n",
    "    img = detector.findPose(img)\n",
    "    lmList, bboxInfo = detector.findPosition(img)\n",
    "\n",
    "    if bboxInfo:\n",
    "        lmString = ''\n",
    "        for lm in lmList:\n",
    "            lmString += f'{lm[1]},{img.shape[0] - lm[2]},{lm[3]},'\n",
    "        posList.append(lmString)\n",
    "\n",
    "    print(len(posList))\n",
    "\n",
    "    cv2.imshow(\"Image\", img)\n",
    "    key = cv2.waitKey(1)\n",
    "    if key == ord('s'):\n",
    "        with open(\"AnimationFile.txt\", 'w') as f:\n",
    "            f.writelines([\"%s\\n\" % item for item in posList])\n",
    "            \n"
   ]
  },
  {
   "cell_type": "code",
   "execution_count": 4,
   "id": "d5fbcce0",
   "metadata": {},
   "outputs": [
    {
     "ename": "SyntaxError",
     "evalue": "invalid syntax (<ipython-input-4-8a67132c88f2>, line 1)",
     "output_type": "error",
     "traceback": [
      "\u001b[1;36m  File \u001b[1;32m\"<ipython-input-4-8a67132c88f2>\"\u001b[1;36m, line \u001b[1;32m1\u001b[0m\n\u001b[1;33m    using System.Collections;\u001b[0m\n\u001b[1;37m          ^\u001b[0m\n\u001b[1;31mSyntaxError\u001b[0m\u001b[1;31m:\u001b[0m invalid syntax\n"
     ]
    }
   ],
   "source": [
    "using System.Collections;\n",
    "using System.Collections.Generic;\n",
    "using System.Linq;\n",
    "using UnityEngine;\n",
    "using System.Threading;\n",
    "\n",
    "public class AnimationCode : MonoBehaviour\n",
    "{\n",
    "\n",
    "    public GameObject[] Body;\n",
    "    List<string> lines;\n",
    "    int counter = 0;\n",
    "    // Start is called before the first frame update\n",
    "    void Start()\n",
    "    {\n",
    "        lines = System.IO.File.ReadLines(\"Assets/AnimationFile.txt\").ToList();\n",
    "    }\n",
    "\n",
    "    // Update is called once per frame\n",
    "    void Update()\n",
    "    {\n",
    "        string[] points = lines[counter].Split(',');\n",
    "\n",
    "        for (int i =0; i<=32;i++)\n",
    "        {\n",
    "            float x = float.Parse(points[0 + (i * 3)]) / 100;\n",
    "            float y = float.Parse(points[1 + (i * 3)]) / 100;\n",
    "            float z = float.Parse(points[2 + (i * 3)]) / 300;\n",
    "            Body[i].transform.localPosition = new Vector3(x, y, z);\n",
    "        }\n",
    "\n",
    "  \n",
    "        counter += 1;\n",
    "        if (counter == lines.Count) { counter = 0; }\n",
    "        Thread.Sleep(30);\n",
    "    }\n",
    "}"
   ]
  },
  {
   "cell_type": "code",
   "execution_count": null,
   "id": "5bd0c221",
   "metadata": {},
   "outputs": [],
   "source": []
  }
 ],
 "metadata": {
  "kernelspec": {
   "display_name": "Python 3",
   "language": "python",
   "name": "python3"
  },
  "language_info": {
   "codemirror_mode": {
    "name": "ipython",
    "version": 3
   },
   "file_extension": ".py",
   "mimetype": "text/x-python",
   "name": "python",
   "nbconvert_exporter": "python",
   "pygments_lexer": "ipython3",
   "version": "3.8.8"
  }
 },
 "nbformat": 4,
 "nbformat_minor": 5
}
